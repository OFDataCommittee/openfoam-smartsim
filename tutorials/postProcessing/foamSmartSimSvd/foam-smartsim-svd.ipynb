{
 "cells": [
  {
   "cell_type": "code",
   "execution_count": 1,
   "id": "92a3898a-9fed-41eb-9463-2c9d559f8c0c",
   "metadata": {},
   "outputs": [
    {
     "name": "stdout",
     "output_type": "stream",
     "text": [
      "SmartRedis Library@13-23-40:WARNING: Environment variable SR_LOG_FILE is not set. Defaulting to stdout\n",
      "SmartRedis Library@13-23-40:WARNING: Environment variable SR_LOG_LEVEL is not set. Defaulting to INFO\n",
      "13:23:40 argo SmartSim[11205] INFO Stopping model orchestrator_0 with job name orchestrator_0-CWWTWKSJ48HT\n"
     ]
    }
   ],
   "source": [
    "from smartsim import Experiment\n",
    "from smartredis import Client\n",
    "import torch\n",
    "import torch.nn as nn\n",
    "from sklearn.preprocessing import MinMaxScaler\n",
    "from sklearn.model_selection import train_test_split\n",
    "import torch.optim as optim\n",
    "from sklearn.metrics import mean_squared_error\n",
    "import numpy as np\n",
    "from matplotlib import pyplot as plt\n",
    "\n",
    "import io\n",
    "\n",
    "# Set up the execution of the foamSmartSimMapField application \n",
    "# as a SmartSim Experiment. \n",
    "exp = Experiment(\"foam-smartsim-svd\", launcher=\"local\")\n",
    "\n",
    "db = exp.create_database(port=8000,       # database port\n",
    "                         interface=\"lo\")  # network interface to use\n",
    "exp.start(db)\n",
    "\n",
    "# Connect the python client to the smartredis database\n",
    "client = Client(address=db.get_address()[0], cluster=False)\n",
    "\n",
    "# Serial execution run settings for foamSmartSimDmd\n",
    "run_settings_serial = exp.create_run_settings(exe=\"foamSmartSimSvd\", \n",
    "                                              exe_args=\"-case cavity -fieldName p\")\n",
    "\n",
    "# MPI parallel run settings for foamSmartSimMapFields - run_command can be \"slurm\" on a cluster.\n",
    "num_mpi_ranks = 4\n",
    "run_settings_parallel = exp.create_run_settings(exe=\"foamSmartSimSvd\", \n",
    "                                                exe_args=\"-case cavity -fieldName p -parallel\", \n",
    "                                                run_command=\"mpirun\", \n",
    "                                                run_args={\"np\": f\"{num_mpi_ranks}\"})\n",
    "\n",
    "openfoam_svd_model = exp.create_model(name=\"foamSmartSimSvd\", run_settings=run_settings_parallel)\n",
    "\n",
    "try:\n",
    "     torch.set_default_dtype(torch.float64)\n",
    "    \n",
    "     # Run foamSmartSimSvd and do not block.\n",
    "     exp.start(openfoam_svd_model, block=False)\n",
    "\n",
    "     # Perform SVD for each MPI rank in SmartRedis - this should be distributed.\n",
    "     \n",
    "\n",
    "except Exception as e:\n",
    "    print(\"Caught an exception: \", str(e))\n",
    "    \n",
    "finally:\n",
    "    exp.stop(db)"
   ]
  },
  {
   "cell_type": "code",
   "execution_count": null,
   "id": "90e55985-595a-4c9c-8481-8ad80c9e14a0",
   "metadata": {},
   "outputs": [],
   "source": []
  }
 ],
 "metadata": {
  "kernelspec": {
   "display_name": "Python 3 (ipykernel)",
   "language": "python",
   "name": "python3"
  },
  "language_info": {
   "codemirror_mode": {
    "name": "ipython",
    "version": 3
   },
   "file_extension": ".py",
   "mimetype": "text/x-python",
   "name": "python",
   "nbconvert_exporter": "python",
   "pygments_lexer": "ipython3",
   "version": "3.9.17"
  }
 },
 "nbformat": 4,
 "nbformat_minor": 5
}
