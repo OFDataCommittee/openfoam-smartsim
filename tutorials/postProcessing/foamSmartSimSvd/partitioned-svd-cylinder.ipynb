{
 "cells": [
  {
   "cell_type": "markdown",
   "id": "0dbc0d90-a79d-4bfa-a4ef-f302f77b7aef",
   "metadata": {},
   "source": [
    "# Computing the SVD of the flow past a cylinder"
   ]
  },
  {
   "cell_type": "code",
   "execution_count": 1,
   "id": "1c5b13b6-6e75-49f5-b6f3-3acdc25e5194",
   "metadata": {},
   "outputs": [
    {
     "data": {
      "text/plain": [
       "'0.8.0'"
      ]
     },
     "execution_count": 1,
     "metadata": {},
     "output_type": "execute_result"
    }
   ],
   "source": [
    "from smartsim import Experiment\n",
    "from smartsim import __version__ as version_smartsim\n",
    "from smartredis import Client\n",
    "import numpy as np\n",
    "import matplotlib.pyplot as plt\n",
    "from scipy.signal import welch\n",
    "\n",
    "plt.rcParams[\"figure.dpi\"] = 180\n",
    "version_smartsim"
   ]
  },
  {
   "cell_type": "code",
   "execution_count": 2,
   "id": "966cbfb7-532e-4e20-9726-5d01f0dd5a6c",
   "metadata": {},
   "outputs": [],
   "source": [
    "# location of OpenFOAM case\n",
    "case_name = \"cylinder2D\"\n",
    "# number of subdomains (MPI-ranks) in the OpenFOAM simulation\n",
    "mpi_ranks = 4\n",
    "# function object name\n",
    "fo_name = \"dataToSmartRedis\"\n",
    "# field of which to compute the SVD\n",
    "field_name = \"U\""
   ]
  },
  {
   "cell_type": "markdown",
   "id": "89e95351-456b-4309-9e91-5996fee3584a",
   "metadata": {},
   "source": [
    "## Setting up experiment and database"
   ]
  },
  {
   "cell_type": "code",
   "execution_count": 3,
   "id": "cd9e79b1-a733-4446-8e39-454fc6ad9d0a",
   "metadata": {},
   "outputs": [],
   "source": [
    "exp = Experiment(\"partitioned-svd-cylinder\", launcher=\"local\")\n",
    "db = exp.create_database(port=8000, interface=\"lo\")\n",
    "exp.start(db)"
   ]
  },
  {
   "cell_type": "markdown",
   "id": "ed3afd38-6d13-429d-a026-78e68e8d11de",
   "metadata": {},
   "source": [
    "## Running the simulation"
   ]
  },
  {
   "cell_type": "code",
   "execution_count": 4,
   "id": "fe1ca409-6ef1-498f-93d2-3cfd429dddce",
   "metadata": {
    "tags": []
   },
   "outputs": [
    {
     "name": "stdout",
     "output_type": "stream",
     "text": [
      "11:14:39 andre-XP1511 SmartSim[28297:JobManager] INFO blockMesh(28425): SmartSimStatus.STATUS_COMPLETED\n",
      "11:14:43 andre-XP1511 SmartSim[28297:JobManager] INFO cp(28627): SmartSimStatus.STATUS_COMPLETED\n",
      "11:14:47 andre-XP1511 SmartSim[28297:JobManager] INFO setExprBoundaryFields(28650): SmartSimStatus.STATUS_COMPLETED\n",
      "11:14:53 andre-XP1511 SmartSim[28297:JobManager] INFO decomposePar(28679): SmartSimStatus.STATUS_COMPLETED\n",
      "11:14:59 andre-XP1511 SmartSim[28297:JobManager] INFO renumberMesh(28701): SmartSimStatus.STATUS_COMPLETED\n",
      "11:15:07 andre-XP1511 SmartSim[28297:MainThread] INFO pimpleFoam(28755): SmartSimStatus.STATUS_RUNNING\n",
      "11:15:12 andre-XP1511 SmartSim[28297:MainThread] INFO pimpleFoam(28755): SmartSimStatus.STATUS_RUNNING\n",
      "11:15:17 andre-XP1511 SmartSim[28297:MainThread] INFO pimpleFoam(28755): SmartSimStatus.STATUS_RUNNING\n",
      "11:15:22 andre-XP1511 SmartSim[28297:MainThread] INFO pimpleFoam(28755): SmartSimStatus.STATUS_RUNNING\n",
      "11:15:27 andre-XP1511 SmartSim[28297:MainThread] INFO pimpleFoam(28755): SmartSimStatus.STATUS_RUNNING\n",
      "11:15:32 andre-XP1511 SmartSim[28297:MainThread] INFO pimpleFoam(28755): SmartSimStatus.STATUS_RUNNING\n",
      "11:15:37 andre-XP1511 SmartSim[28297:MainThread] INFO pimpleFoam(28755): SmartSimStatus.STATUS_RUNNING\n",
      "11:15:42 andre-XP1511 SmartSim[28297:MainThread] INFO pimpleFoam(28755): SmartSimStatus.STATUS_RUNNING\n",
      "11:15:47 andre-XP1511 SmartSim[28297:MainThread] INFO pimpleFoam(28755): SmartSimStatus.STATUS_RUNNING\n",
      "11:15:52 andre-XP1511 SmartSim[28297:MainThread] INFO pimpleFoam(28755): SmartSimStatus.STATUS_RUNNING\n",
      "11:15:57 andre-XP1511 SmartSim[28297:MainThread] INFO pimpleFoam(28755): SmartSimStatus.STATUS_RUNNING\n",
      "11:16:02 andre-XP1511 SmartSim[28297:MainThread] INFO pimpleFoam(28755): SmartSimStatus.STATUS_RUNNING\n",
      "11:16:07 andre-XP1511 SmartSim[28297:MainThread] INFO pimpleFoam(28755): SmartSimStatus.STATUS_RUNNING\n",
      "11:16:12 andre-XP1511 SmartSim[28297:MainThread] INFO pimpleFoam(28755): SmartSimStatus.STATUS_RUNNING\n",
      "11:16:17 andre-XP1511 SmartSim[28297:MainThread] INFO pimpleFoam(28755): SmartSimStatus.STATUS_RUNNING\n",
      "11:16:22 andre-XP1511 SmartSim[28297:MainThread] INFO pimpleFoam(28755): SmartSimStatus.STATUS_RUNNING\n",
      "11:16:27 andre-XP1511 SmartSim[28297:MainThread] INFO pimpleFoam(28755): SmartSimStatus.STATUS_RUNNING\n",
      "11:16:32 andre-XP1511 SmartSim[28297:MainThread] INFO pimpleFoam(28755): SmartSimStatus.STATUS_RUNNING\n",
      "11:16:37 andre-XP1511 SmartSim[28297:MainThread] INFO pimpleFoam(28755): SmartSimStatus.STATUS_RUNNING\n",
      "11:16:42 andre-XP1511 SmartSim[28297:MainThread] INFO pimpleFoam(28755): SmartSimStatus.STATUS_RUNNING\n",
      "11:16:47 andre-XP1511 SmartSim[28297:MainThread] INFO pimpleFoam(28755): SmartSimStatus.STATUS_RUNNING\n",
      "11:16:52 andre-XP1511 SmartSim[28297:MainThread] INFO pimpleFoam(28755): SmartSimStatus.STATUS_RUNNING\n",
      "11:16:57 andre-XP1511 SmartSim[28297:MainThread] INFO pimpleFoam(28755): SmartSimStatus.STATUS_RUNNING\n",
      "11:17:02 andre-XP1511 SmartSim[28297:MainThread] INFO pimpleFoam(28755): SmartSimStatus.STATUS_RUNNING\n",
      "11:17:07 andre-XP1511 SmartSim[28297:MainThread] INFO pimpleFoam(28755): SmartSimStatus.STATUS_RUNNING\n",
      "11:17:12 andre-XP1511 SmartSim[28297:MainThread] INFO pimpleFoam(28755): SmartSimStatus.STATUS_RUNNING\n",
      "11:17:17 andre-XP1511 SmartSim[28297:MainThread] INFO pimpleFoam(28755): SmartSimStatus.STATUS_RUNNING\n",
      "11:17:22 andre-XP1511 SmartSim[28297:MainThread] INFO pimpleFoam(28755): SmartSimStatus.STATUS_RUNNING\n",
      "11:17:27 andre-XP1511 SmartSim[28297:MainThread] INFO pimpleFoam(28755): SmartSimStatus.STATUS_RUNNING\n",
      "11:17:32 andre-XP1511 SmartSim[28297:MainThread] INFO pimpleFoam(28755): SmartSimStatus.STATUS_RUNNING\n",
      "11:17:37 andre-XP1511 SmartSim[28297:MainThread] INFO pimpleFoam(28755): SmartSimStatus.STATUS_RUNNING\n",
      "11:17:42 andre-XP1511 SmartSim[28297:MainThread] INFO pimpleFoam(28755): SmartSimStatus.STATUS_RUNNING\n",
      "11:17:47 andre-XP1511 SmartSim[28297:MainThread] INFO pimpleFoam(28755): SmartSimStatus.STATUS_RUNNING\n",
      "11:17:52 andre-XP1511 SmartSim[28297:MainThread] INFO pimpleFoam(28755): SmartSimStatus.STATUS_RUNNING\n",
      "11:17:53 andre-XP1511 SmartSim[28297:JobManager] INFO pimpleFoam(28755): SmartSimStatus.STATUS_COMPLETED\n"
     ]
    }
   ],
   "source": [
    "# create blockMesh\n",
    "blockMesh_settings = exp.create_run_settings(exe=\"blockMesh\")\n",
    "blockMesh_model = exp.create_model(name=\"blockMesh\", run_settings=blockMesh_settings, path=case_name)\n",
    "exp.start(blockMesh_model, summary=False, block=True) \n",
    "# create copy of original zero folder\n",
    "cp_settings = exp.create_run_settings(exe=\"cp\", exe_args=f\"-r 0.org 0\")\n",
    "cp_model = exp.create_model(name=\"cp\", run_settings=cp_settings, path=case_name)\n",
    "exp.start(cp_model, summary=False, block=True) \n",
    "# set inlet velocity\n",
    "setExp_settings = exp.create_run_settings(exe=\"setExprBoundaryFields\")\n",
    "setExp_model = exp.create_model(name=\"setExprBoundaryFields\", run_settings=setExp_settings, path=case_name)\n",
    "exp.start(setExp_model, summary=False, block=True)\n",
    "# decompose domain\n",
    "decomposePar_settings = exp.create_run_settings(exe=\"decomposePar\")\n",
    "decomposePar_model = exp.create_model(name=\"decomposePar\", run_settings=decomposePar_settings, path=case_name)\n",
    "exp.start(decomposePar_model, summary=False, block=True)\n",
    "# renumber mesh cells\n",
    "renumberMesh_settings = exp.create_run_settings(\n",
    "    exe=\"renumberMesh\", exe_args=f\"-parallel -overwrite\", \n",
    "    run_command=\"mpirun\", run_args={\"np\": f\"{mpi_ranks}\"}\n",
    ")\n",
    "renumberMesh_model = exp.create_model(name=\"renumberMesh\", run_settings=renumberMesh_settings, path=case_name)\n",
    "exp.start(renumberMesh_model, summary=False, block=True)\n",
    "# run the solver\n",
    "pimpleFoam_settings = exp.create_run_settings(\n",
    "    exe=\"pimpleFoam\", exe_args=f\"-parallel\", \n",
    "    run_command=\"mpirun\", run_args={\"np\": f\"{mpi_ranks}\"}\n",
    ")\n",
    "pimpleFoam_model = exp.create_model(name=\"pimpleFoam\", run_settings=pimpleFoam_settings, path=case_name)\n",
    "exp.start(pimpleFoam_model, summary=False, block=True)"
   ]
  },
  {
   "cell_type": "markdown",
   "id": "607ecb12-4ba5-46cc-8e0c-2acb5d22d92a",
   "metadata": {},
   "source": [
    "## Connecting to the database"
   ]
  },
  {
   "cell_type": "code",
   "execution_count": 5,
   "id": "4d1ba9b6-fdcd-44ac-a112-28e084341bd6",
   "metadata": {},
   "outputs": [
    {
     "name": "stdout",
     "output_type": "stream",
     "text": [
      "SmartRedis Library@11-17-57:WARNING: Environment variable SR_LOG_FILE is not set. Defaulting to stdout\n",
      "SmartRedis Library@11-17-57:WARNING: Environment variable SR_LOG_LEVEL is not set. Defaulting to INFO\n"
     ]
    }
   ],
   "source": [
    "client = Client(address=db.get_address()[0], cluster=False)"
   ]
  },
  {
   "cell_type": "markdown",
   "id": "fbf6ae3f-fbe5-4054-ab7f-b616c09a37e7",
   "metadata": {},
   "source": [
    "## Computing the SVD"
   ]
  },
  {
   "cell_type": "code",
   "execution_count": 6,
   "id": "341e49c5-6020-4e60-920e-b12aa6cf5c61",
   "metadata": {},
   "outputs": [],
   "source": [
    "time_indices = list(range(10, 4001, 10))"
   ]
  },
  {
   "cell_type": "code",
   "execution_count": 7,
   "id": "771b8b86-1714-4f58-8ab8-47168cf7f408",
   "metadata": {},
   "outputs": [],
   "source": [
    "def fetch_snapshot(time_index, mpi_rank):\n",
    "    dataset_name = f\"{fo_name}_time_index_{time_index}_mpi_rank_{mpi_rank}\"\n",
    "    if client.dataset_exists(dataset_name):\n",
    "        dataset = client.get_dataset(dataset_name)\n",
    "        return dataset.get_tensor(f\"field_name_{field_name}_patch_internal\").flatten()\n",
    "    else:\n",
    "        return None\n",
    "    \n",
    "def fetch_timeseries(time_indices, mpi_rank):\n",
    "    return np.vstack([fetch_snapshot(ti, mpi_rank) for ti in time_indices]).T"
   ]
  },
  {
   "cell_type": "code",
   "execution_count": 8,
   "id": "2d928a04-c007-4375-b962-8789e32814db",
   "metadata": {},
   "outputs": [],
   "source": [
    "def compute_partitioned_svd(svd_rank):\n",
    "    # compute partial SVD for each MPI rank\n",
    "    svd_settings = exp.create_run_settings(exe=\"python3\", exe_args=f\"partial_svd.py\")\n",
    "    params = {\"mpi_rank\" : list(range(mpi_ranks))}\n",
    "    ensemble = exp.create_ensemble(f\"svd_ensemble_r{svd_rank}\", params=params, run_settings=svd_settings, perm_strategy=\"all_perm\")\n",
    "    config_file = \"./partial_svd.py\"\n",
    "    ensemble.attach_generator_files(to_configure=config_file)\n",
    "    exp.generate(ensemble, overwrite=True)\n",
    "    exp.start(ensemble, summary=False, block=True)\n",
    "    # assemble Y matrix and compute SVD\n",
    "    Y = []\n",
    "    for rank_i in range(mpi_ranks):\n",
    "        s = client.get_tensor(f\"svd_ensemble_r{svd_rank}_{rank_i}.partSVD_s_mpi_rank_{rank_i}\")\n",
    "        VT = client.get_tensor(f\"svd_ensemble_r{svd_rank}_{rank_i}.partSVD_VT_mpi_rank_{rank_i}\")\n",
    "        Y.append(np.diag(s) @ VT)\n",
    "    Y = np.concatenate(Y, axis=0)\n",
    "    Uy, sy, VTy = np.linalg.svd(Y, full_matrices=False)\n",
    "    client.put_tensor(\"partSVD_Uy\", Uy)\n",
    "    client.put_tensor(\"partSVD_sy\", sy)\n",
    "    client.put_tensor(\"partSVD_VTy\", VTy)\n",
    "    # compute global left singular vectors and reconstruction\n",
    "    rec_settings = exp.create_run_settings(exe=\"python3\", exe_args=f\"reconstruction.py\")\n",
    "    params = {\n",
    "        \"mpi_rank\" : list(range(mpi_ranks)),\n",
    "        \"svd_rank\" : svd_rank\n",
    "    }\n",
    "    ensemble = exp.create_ensemble(f\"rec_ensemble_r{svd_rank}\", params=params, run_settings=rec_settings, perm_strategy=\"all_perm\")\n",
    "    config_file = \"./reconstruction.py\"\n",
    "    ensemble.attach_generator_files(to_configure=config_file)\n",
    "    exp.generate(ensemble, overwrite=True)\n",
    "    exp.start(ensemble, summary=False, block=True)"
   ]
  },
  {
   "cell_type": "code",
   "execution_count": 9,
   "id": "7eba1cdb-7811-454e-98ad-e0ec9ec79d37",
   "metadata": {},
   "outputs": [],
   "source": [
    "def compute_reconstruction_error(svd_rank):\n",
    "    rec = []\n",
    "    for rank_i in range(mpi_ranks):\n",
    "        rec_i = []\n",
    "        name = f\"rec_ensemble_r{svd_rank}_{rank_i}.rank_{svd_rank}_field_name_{field_name}_mpi_rank_{rank_i}_\"\n",
    "        for i, ti in enumerate(time_indices):\n",
    "            name_i = name + f\"time_index_{ti}\"\n",
    "            rec_i.append(client.get_tensor(name_i).flatten())\n",
    "        data_i = fetch_timeseries(time_indices, rank_i)\n",
    "        rec_i = np.vstack(rec_i).T\n",
    "        rec.append(rec_i)\n",
    "    rec = np.concatenate(rec, axis=0)\n",
    "    data = [fetch_timeseries(time_indices, rank_i) for rank_i in range(mpi_ranks)]\n",
    "    data = np.concatenate(data, axis=0)\n",
    "    return np.linalg.norm(rec - data) / np.linalg.norm(data)"
   ]
  },
  {
   "cell_type": "code",
   "execution_count": 10,
   "id": "b3e69828-a188-43b7-b64d-3dfe65c5f099",
   "metadata": {},
   "outputs": [],
   "source": [
    "def compute_reconstruction_error_global(svd_rank):\n",
    "    data = [fetch_timeseries(time_indices, rank_i) for rank_i in range(mpi_ranks)]\n",
    "    data = np.concatenate(data, axis=0)\n",
    "    U, s, VT = np.linalg.svd(data, full_matrices=False)\n",
    "    rec = U[:, :svd_rank] @ np.diag(s[:svd_rank]) @ VT[:svd_rank]\n",
    "    return np.linalg.norm(rec - data) / np.linalg.norm(data)"
   ]
  },
  {
   "cell_type": "code",
   "execution_count": 11,
   "id": "07fbdc42-f1ab-4bc7-ac07-8172f5d0c4fb",
   "metadata": {},
   "outputs": [
    {
     "name": "stdout",
     "output_type": "stream",
     "text": [
      "11:18:02 andre-XP1511 SmartSim[28297:JobManager] INFO svd_ensemble_r2_0(29042): SmartSimStatus.STATUS_COMPLETED\n",
      "11:18:02 andre-XP1511 SmartSim[28297:JobManager] INFO svd_ensemble_r2_1(29058): SmartSimStatus.STATUS_COMPLETED\n",
      "11:18:02 andre-XP1511 SmartSim[28297:JobManager] INFO svd_ensemble_r2_3(29091): SmartSimStatus.STATUS_COMPLETED\n",
      "11:18:03 andre-XP1511 SmartSim[28297:MainThread] INFO svd_ensemble_r2_2(29074): SmartSimStatus.STATUS_COMPLETED\n",
      "11:18:04 andre-XP1511 SmartSim[28297:JobManager] INFO svd_ensemble_r2_2(29074): SmartSimStatus.STATUS_COMPLETED\n",
      "11:18:10 andre-XP1511 SmartSim[28297:JobManager] INFO rec_ensemble_r2_0(29219): SmartSimStatus.STATUS_COMPLETED\n",
      "11:18:12 andre-XP1511 SmartSim[28297:JobManager] INFO rec_ensemble_r2_1(29235): SmartSimStatus.STATUS_COMPLETED\n",
      "11:18:12 andre-XP1511 SmartSim[28297:JobManager] INFO rec_ensemble_r2_2(29251): SmartSimStatus.STATUS_COMPLETED\n",
      "11:18:12 andre-XP1511 SmartSim[28297:JobManager] INFO rec_ensemble_r2_3(29267): SmartSimStatus.STATUS_COMPLETED\n",
      "11:18:18 andre-XP1511 SmartSim[28297:JobManager] INFO svd_ensemble_r4_0(29374): SmartSimStatus.STATUS_COMPLETED\n",
      "11:18:18 andre-XP1511 SmartSim[28297:JobManager] INFO svd_ensemble_r4_1(29390): SmartSimStatus.STATUS_COMPLETED\n",
      "11:18:18 andre-XP1511 SmartSim[28297:JobManager] INFO svd_ensemble_r4_3(29422): SmartSimStatus.STATUS_COMPLETED\n",
      "11:18:19 andre-XP1511 SmartSim[28297:MainThread] INFO svd_ensemble_r4_2(29406): SmartSimStatus.STATUS_COMPLETED\n",
      "11:18:20 andre-XP1511 SmartSim[28297:JobManager] INFO svd_ensemble_r4_2(29406): SmartSimStatus.STATUS_COMPLETED\n",
      "11:18:28 andre-XP1511 SmartSim[28297:JobManager] INFO rec_ensemble_r4_0(29540): SmartSimStatus.STATUS_COMPLETED\n",
      "11:18:28 andre-XP1511 SmartSim[28297:JobManager] INFO rec_ensemble_r4_2(29572): SmartSimStatus.STATUS_COMPLETED\n",
      "11:18:30 andre-XP1511 SmartSim[28297:JobManager] INFO rec_ensemble_r4_1(29556): SmartSimStatus.STATUS_COMPLETED\n",
      "11:18:30 andre-XP1511 SmartSim[28297:JobManager] INFO rec_ensemble_r4_3(29588): SmartSimStatus.STATUS_COMPLETED\n",
      "11:18:36 andre-XP1511 SmartSim[28297:JobManager] INFO svd_ensemble_r8_0(29704): SmartSimStatus.STATUS_COMPLETED\n",
      "11:18:36 andre-XP1511 SmartSim[28297:JobManager] INFO svd_ensemble_r8_1(29720): SmartSimStatus.STATUS_COMPLETED\n",
      "11:18:36 andre-XP1511 SmartSim[28297:JobManager] INFO svd_ensemble_r8_3(29754): SmartSimStatus.STATUS_COMPLETED\n",
      "11:18:36 andre-XP1511 SmartSim[28297:MainThread] INFO svd_ensemble_r8_2(29736): SmartSimStatus.STATUS_COMPLETED\n",
      "11:18:38 andre-XP1511 SmartSim[28297:JobManager] INFO svd_ensemble_r8_2(29736): SmartSimStatus.STATUS_COMPLETED\n",
      "11:18:44 andre-XP1511 SmartSim[28297:JobManager] INFO rec_ensemble_r8_2(29904): SmartSimStatus.STATUS_COMPLETED\n",
      "11:18:46 andre-XP1511 SmartSim[28297:JobManager] INFO rec_ensemble_r8_0(29872): SmartSimStatus.STATUS_COMPLETED\n",
      "11:18:46 andre-XP1511 SmartSim[28297:JobManager] INFO rec_ensemble_r8_1(29888): SmartSimStatus.STATUS_COMPLETED\n",
      "11:18:46 andre-XP1511 SmartSim[28297:JobManager] INFO rec_ensemble_r8_3(29920): SmartSimStatus.STATUS_COMPLETED\n",
      "11:18:52 andre-XP1511 SmartSim[28297:JobManager] INFO svd_ensemble_r16_0(30029): SmartSimStatus.STATUS_COMPLETED\n",
      "11:18:52 andre-XP1511 SmartSim[28297:JobManager] INFO svd_ensemble_r16_1(30045): SmartSimStatus.STATUS_COMPLETED\n",
      "11:18:52 andre-XP1511 SmartSim[28297:JobManager] INFO svd_ensemble_r16_2(30068): SmartSimStatus.STATUS_COMPLETED\n",
      "11:18:53 andre-XP1511 SmartSim[28297:MainThread] INFO svd_ensemble_r16_3(30086): SmartSimStatus.STATUS_COMPLETED\n",
      "11:18:54 andre-XP1511 SmartSim[28297:JobManager] INFO svd_ensemble_r16_3(30086): SmartSimStatus.STATUS_COMPLETED\n",
      "11:19:02 andre-XP1511 SmartSim[28297:JobManager] INFO rec_ensemble_r16_0(30201): SmartSimStatus.STATUS_COMPLETED\n",
      "11:19:02 andre-XP1511 SmartSim[28297:JobManager] INFO rec_ensemble_r16_1(30217): SmartSimStatus.STATUS_COMPLETED\n",
      "11:19:02 andre-XP1511 SmartSim[28297:JobManager] INFO rec_ensemble_r16_3(30250): SmartSimStatus.STATUS_COMPLETED\n",
      "11:19:04 andre-XP1511 SmartSim[28297:MainThread] INFO rec_ensemble_r16_2(30233): SmartSimStatus.STATUS_COMPLETED\n",
      "11:19:04 andre-XP1511 SmartSim[28297:JobManager] INFO rec_ensemble_r16_2(30233): SmartSimStatus.STATUS_COMPLETED\n"
     ]
    }
   ],
   "source": [
    "test_ranks = (2, 4, 8, 16)\n",
    "for r in test_ranks:\n",
    "    compute_partitioned_svd(r)"
   ]
  },
  {
   "cell_type": "markdown",
   "id": "d6b4d8e7-ffe3-4cfa-b361-06012c4f4afe",
   "metadata": {},
   "source": [
    "## Reconstruction error"
   ]
  },
  {
   "cell_type": "code",
   "execution_count": 12,
   "id": "b0d56a3f-86cf-488b-a1c8-61dea9a56ac7",
   "metadata": {},
   "outputs": [],
   "source": [
    "part_svd_error = [compute_reconstruction_error(r) for r in test_ranks]"
   ]
  },
  {
   "cell_type": "code",
   "execution_count": 13,
   "id": "2e8a2e85-cf8b-4a0d-a214-c2a13bd0c164",
   "metadata": {},
   "outputs": [],
   "source": [
    "svd_error = [compute_reconstruction_error_global(r) for r in range(1, 21)]"
   ]
  },
  {
   "cell_type": "code",
   "execution_count": 14,
   "id": "c763e321-97a3-44dd-bb61-cdc7dde6c6c6",
   "metadata": {},
   "outputs": [
    {
     "data": {
      "image/png": "[encoded data removed]",
      "text/plain": [
       "<Figure size 1080x540 with 1 Axes>"
      ]
     },
     "metadata": {},
     "output_type": "display_data"
    }
   ],
   "source": [
    "fig, ax = plt.subplots(figsize=(6, 3))\n",
    "ax.plot(range(1, 21), svd_error, c=\"k\", label=\"standard SVD\")\n",
    "ax.scatter(test_ranks, part_svd_error, c=\"k\", marker=\"o\", label=\"partitioned SVD\")\n",
    "ax.set_xticks([1, 5, 10, 15, 20])\n",
    "ax.set_xlim(1, 20)\n",
    "ax.legend()\n",
    "ax.set_xlabel(r\"$r$\")\n",
    "ax.set_ylabel(r\"$E_\\mathrm{rec}$\")\n",
    "plt.show()"
   ]
  },
  {
   "cell_type": "markdown",
   "id": "91afe583-7108-4185-aade-d92eb9a8b95a",
   "metadata": {},
   "source": [
    "## Transferring the data back to OpenFOAM"
   ]
  },
  {
   "cell_type": "code",
   "execution_count": 15,
   "id": "05ccd4f7-9b10-41fb-8362-fa2e1c07345c",
   "metadata": {},
   "outputs": [
    {
     "name": "stdout",
     "output_type": "stream",
     "text": [
      "11:20:26 andre-XP1511 SmartSim[28297:JobManager] INFO svdToFoam_r2(30473): SmartSimStatus.STATUS_COMPLETED\n",
      "11:20:30 andre-XP1511 SmartSim[28297:JobManager] INFO svdToFoam_r4(30540): SmartSimStatus.STATUS_COMPLETED\n",
      "11:20:36 andre-XP1511 SmartSim[28297:JobManager] INFO svdToFoam_r8(30596): SmartSimStatus.STATUS_COMPLETED\n",
      "11:20:40 andre-XP1511 SmartSim[28297:JobManager] INFO svdToFoam_r16(30656): SmartSimStatus.STATUS_COMPLETED\n"
     ]
    }
   ],
   "source": [
    "for r in test_ranks:\n",
    "    settings = exp.create_run_settings(\n",
    "        exe=\"svdToFoam\",\n",
    "        exe_args=f\"-fieldName {field_name} -svdRank {r} -FOName {fo_name} -parallel\",\n",
    "        run_command=\"mpirun\", run_args={\"np\": f\"{mpi_ranks}\"}\n",
    "    )\n",
    "\n",
    "    model = exp.create_model(name=f\"svdToFoam_r{r}\", run_settings=settings, path=case_name)\n",
    "    exp.start(model, summary=False, block=True)"
   ]
  },
  {
   "cell_type": "markdown",
   "id": "0b1ee6a1-7e51-4829-8fde-6533be8d3465",
   "metadata": {},
   "source": [
    "## Stopping the database"
   ]
  },
  {
   "cell_type": "code",
   "execution_count": 16,
   "id": "7323ef6b-2334-4473-8736-8406e5b4bfef",
   "metadata": {},
   "outputs": [],
   "source": [
    "exp.stop(db)"
   ]
  },
  {
   "cell_type": "code",
   "execution_count": null,
   "id": "44e0187b-f7e8-4cc1-b08a-afe20e42a2ca",
   "metadata": {},
   "outputs": [],
   "source": []
  }
 ],
 "metadata": {
  "kernelspec": {
   "display_name": "Python 3 (ipykernel)",
   "language": "python",
   "name": "python3"
  },
  "language_info": {
   "codemirror_mode": {
    "name": "ipython",
    "version": 3
   },
   "file_extension": ".py",
   "mimetype": "text/x-python",
   "name": "python",
   "nbconvert_exporter": "python",
   "pygments_lexer": "ipython3",
   "version": "3.10.12"
  }
 },
 "nbformat": 4,
 "nbformat_minor": 5
}
