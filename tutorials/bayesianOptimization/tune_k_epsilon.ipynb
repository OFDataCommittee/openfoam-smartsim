{
 "cells": [
  {
   "cell_type": "markdown",
   "metadata": {},
   "source": [
    "# Optimization of k-$\\epsilon$ in the Pitz and Daily Case\n",
    "\n",
    "## Problem description\n",
    "The pitzDaily case in OpenFOAM is based on the experimental work of Pitz and Daily [1983] which explores the turbulent flow of gases in a combustion chamber. The problem geometry has a backward facing step near the inlet and a tapered nozzle near the outlet with boundary conditions $U = [10, 0 , 0]$ m s$^{-1}$, $\\nabla P=0$Pa at the inlet, and $\\nabla U=0$m s$^{-1}$, $P=0$Pa at the outlet.\n",
    "\n",
    "For the Reynolds-Averaged Navier Stokes case, using the simpleFOAM steady-state solver, the turbulence is represented by a $k-\\epsilon$ turbulence model which has five coefficients. In addition, the boundary condition for $\\epsilon$, i.e the turbulent kinetic energy decay, must be specified. For the Pitz and Daily case, a length scale argument is used to derive a value of 14.855 m$^2$ s$^{-2}$. Following the work of Shirzadi et al. [2017], one of the free parameters $\\sigma_\\epsilon$ can be calculated from the the other free parameters as\n",
    "\n",
    "$\\sigma_\\epsilon = \\frac{k^2}{C_{\\mu}^{1/2}(C_2 - C_1)}$.\n",
    "\n",
    "Additionally, the authors also found that for their problem $\\sigma_k$ does not significantly affect their simulation and so set that parameter to 1.\n",
    "\n",
    "Hence the RANS model has four free parameters, one related to the decay of turbulent kinetic energy $\\epsilon$ and three related to the $k-\\epsilon$ model, $C_\\mu$, $C_1$, and $C_2$.\n",
    "\n",
    "## Goal of the exercise\n",
    "A common goal of RANS modelling is to replicate the time-averaged behavior of a turbulent case (e.g. from a LES simulation). Often this is done by trying to select values for the free parameters of the RANS case such that metrics of accuracy from the LES and RANS cases are the same. For the Pitz and Daily case, a common metric used to gauge accuracy is the pressure gradient between the outlet and the inlet: $\\nabla P = P_{outlet} - P_{inlet}$. Given that the boundary condition for the inlet pressure is zero, the pressure gradient reduces to $\\nabla P = P_{outlet}$. Assuming that only the free parameters of the turbulence model-related problems affect the pressure in the RANS case, the accuracy of the RANS model can be quantified as the squared difference between the outlet $P$ from the LES and RANS models. Note here, that to match the scales correctly, we use the large-scale $P$ from the LES model averaged over the last 0.1 seconds of the that simulation as the truth $P_{mean} \\approx 1.9 \\textrm{Pa}$. Hence, we can pose the tuning of the RANS model as attempting to minimize the following equation:\n",
    "\n",
    "$f(k, C_\\mu, C_1, C_2) = \\left( P_{RANS}(k, C_\\mu, C_1, C_2) - 1.9 \\right)^2$,\n",
    "where $P_{RANS}$ is the average outlet pressure calculated from the simpleFOAM pitzDaily case.\n",
    "\n",
    "## Methodology\n",
    "The penalty function described previously is a computationally expensive calculation because $P_{RANS}$ must be evaluated for every combination of the free parameters. Additionally, traditional gradient-based optimization schemes requires an estimate of the derivatives of the penalty function. The calculation of these derivatives requires an adjoint model and can of similar cost to the fordward solver.\n",
    "\n",
    "Bayesian optimization is a popular methodology for so-called, blackbox optimization problems, e.g. problems where the only information emitted by function is the output value given a set of inputs. It is also particularly well-suited for applications where the function to be evaluated is expensive to calculate. Instead of directly optimizing the penalty function itself, Bayesian optimization builds a model of the penalty function based on Gaussian processes. The optimization step balances the desire to reduce the uncertainty of the Gaussian processes (referred to as \"exploration\") and also optimizing the model of the penalty function (referred to as \"exploitation\").\n",
    "\n",
    "This exploitation and exploration paradigm lends itself well to parallel execution of the penalty function. A number of exploration/exploitation functions, which suggest the next set of parameters to evaluate, can be called at each stage of optimization. Additionally, many of these functions can suggest multiple sets of parameters. In combination this practically means that at each iteration of the Bayesian Optimization loop, multiple search directions can be explored.\n",
    "\n",
    "## Implementation\n",
    "\n",
    "Here we use the Bayesian optimization routine from Scikit-Learn combined with SmartSim to find the optimal set of parameters for the RANS pitzDaily case such that the modelled outlet pressures match those from the LES case. To do this, we take advantage of SmartSim's ability to configure and launch ensembles of simulations and execute them in parallel. While this is a relatively simple problem, it is analogous to many more complex cases. This notebook provides a starting-point for those seeking to perform similar experiments."
   ]
  },
  {
   "cell_type": "code",
   "execution_count": 1,
   "metadata": {},
   "outputs": [],
   "source": [
    "from smartredis import Client\n",
    "import skopt\n",
    "import numpy as np\n",
    "import matplotlib.pyplot as plt\n",
    "import os\n",
    "os.environ['SMARTSIM_LOG_LEVEL'] = 'quiet'\n",
    "import fluidfoam"
   ]
  },
  {
   "cell_type": "markdown",
   "metadata": {},
   "source": [
    "### Defining the parameters, default values, and the bounds\n",
    "To begin, we first define the four free parameters that will be optimized giving along with the default values specified in the default pitzDaily case from the OpenFOAM tutorials. The bounds to explore are taken from the paper of Shirzadi et al. [2017]. Additionally, we also define a function to derive the a fifth variable parameter $\\sigma_\\epsilon$ which depends on three other free parameters."
   ]
  },
  {
   "cell_type": "code",
   "execution_count": 2,
   "metadata": {},
   "outputs": [],
   "source": [
    "SIMPLEFOAM_PATH = \"/home/users/shao/dev/OpenFOAM/openfoam/platforms/linux64CrayDPInt32Opt/bin/simpleFoam\"\n",
    "\n",
    "param_names = [\n",
    "    'epsilon',\n",
    "    'Cmu',\n",
    "    'C1',\n",
    "    'C2',\n",
    "]\n",
    "default_values = [\n",
    "    14.855, \n",
    "    0.09, \n",
    "    1.44, \n",
    "    1.92, \n",
    "]\n",
    "bounds = [\n",
    "    [default_values[0]*0.2, default_values[0]*5],\n",
    "    [0.05, 0.15],\n",
    "    [1., 1.5],\n",
    "    [1.5, 3.],\n",
    "]\n",
    "def calculate_sigma_epsilon(Cmu, C2, C1, kappa=0.375):\n",
    "    return np.sqrt(kappa)/(np.sqrt(Cmu)*(C2-C1))"
   ]
  },
  {
   "cell_type": "markdown",
   "metadata": {},
   "source": [
    "Next we create the SmartSim `Experiment` object which will be used to define the openFOAM experiment and launch the ensemble at every optimization step"
   ]
  },
  {
   "cell_type": "code",
   "execution_count": 3,
   "metadata": {},
   "outputs": [],
   "source": [
    "from smartsim import Experiment\n",
    "exp = Experiment(\"Tune_K-Epsilon\")"
   ]
  },
  {
   "cell_type": "markdown",
   "metadata": {},
   "source": [
    "As part of this experiment, we first run the case with the default values as prescribed above. To do this, we create a `Model` object, create the `RunSettings` and attach the case files needed to run the experiment."
   ]
  },
  {
   "cell_type": "code",
   "execution_count": 4,
   "metadata": {},
   "outputs": [],
   "source": [
    "rs = exp.create_run_settings(SIMPLEFOAM_PATH)\n",
    "default_simulation = exp.create_model(\"default_simulation\", rs)\n",
    "default_sigma_epsilon = calculate_sigma_epsilon(default_values[1], default_values[3], default_values[2])\n",
    "default_simulation.params = {\n",
    "    'epsilon':14.855,\n",
    "    'Cmu':0.09,\n",
    "    'C1':1.44,\n",
    "    'C2':1.92,\n",
    "    'sigmaEps':default_sigma_epsilon\n",
    "}\n",
    "default_simulation.attach_generator_files(to_configure=\"pitzDaily\")\n",
    "exp.generate(default_simulation, overwrite=True, tag=\"!\")\n",
    "exp.start(default_simulation, block=True)"
   ]
  },
  {
   "cell_type": "markdown",
   "metadata": {},
   "source": [
    "Next we define the function that will actually calculate the value of the penalty function described previously. In this case, we take advantage of SmartSim's `Ensemble` functionality to configure launch many individual simulations at once. `experiment.start` will actually launch each ensemble member (potentially on HPC resources) and then wait until the entire ensemble has completed. Lastly, we extract the averaged inlet pressure and calculate the squared difference between the each ensemble member and the 'true' inlet pressure from the LES simulation."
   ]
  },
  {
   "cell_type": "code",
   "execution_count": 7,
   "metadata": {},
   "outputs": [],
   "source": [
    "def extract_output(model, true_p = 1.9):\n",
    "    fname = f'{model.path}/postProcessing/avgInlets/0/surfaceFieldValue.dat'\n",
    "    data = np.loadtxt(fname, skiprows=5)\n",
    "\n",
    "    error = (true_p+data[-1,1])**2\n",
    "    if error> 1e3: # Set this to be fairly high as a sign of non-convergence\n",
    "        error = np.nan\n",
    "    return error\n",
    "\n",
    "def evaluate_function(values):\n",
    "\n",
    "    nparams = len(values[0])\n",
    "\n",
    "    # Turn the values into a list of dictionaries\n",
    "    params = {}\n",
    "    for i in range(nparams):\n",
    "        params[param_names[i]] = [ value[i] for value in values ]\n",
    "    # Include the derived sigma_epsilon parameter\n",
    "    params[\"sigmaEps\"] = [\n",
    "        calculate_sigma_epsilon(\n",
    "            params['Cmu'][i], \n",
    "            params['C2'][i], \n",
    "            params['C1'][i]) \n",
    "            for i in range(len(values))\n",
    "        ]\n",
    "\n",
    "    rs = exp.create_run_settings(SIMPLEFOAM_PATH)\n",
    "    ens = exp.create_ensemble(\n",
    "        \"evaluation\",\n",
    "        params=params,\n",
    "        perm_strategy='step',\n",
    "        run_settings=rs\n",
    "    )\n",
    "    ens.attach_generator_files(to_configure=\"pitzDaily\")\n",
    "    exp.generate(ens, overwrite=True, tag=\"!\")\n",
    "    exp.start(ens, block=True)\n",
    "\n",
    "    outputs = []\n",
    "    for model in ens.models:\n",
    "        try:\n",
    "            outputs.append(extract_output(model))\n",
    "        except:\n",
    "            outputs.append(np.nan)\n",
    "\n",
    "    if len(outputs)==1:\n",
    "        return outputs[0]\n",
    "    else:\n",
    "        return outputs"
   ]
  },
  {
   "cell_type": "markdown",
   "metadata": {},
   "source": [
    "### Running the Bayesian Optimization Loop\n",
    "\n",
    "Following the documentation from Scikit-Learn, we use the ask-tell paradigm for Bayesian optimization to investigate multiple search directions (in this case 5) for every iteration loop. We filter the outputs from the optimizer to ensure that only simulations which converged will actually be used to inform the Bayesian optimizer. This process is repeated for 10 loops, outputting the set of parameters that currently yields the smallest penalty function."
   ]
  },
  {
   "cell_type": "code",
   "execution_count": 8,
   "metadata": {
    "scrolled": true
   },
   "outputs": [
    {
     "name": "stdout",
     "output_type": "stream",
     "text": [
      "\n",
      "Parameter     \tDefault\tOptimal\tMin\tMax\n",
      "epsilon:     \t14.855\t38.1364\t2.9710\t74.2750\n",
      "Cmu:     \t0.09\t0.1389\t0.0500\t0.1500\n",
      "C1:     \t1.44\t1.0292\t1.0000\t1.5000\n",
      "C2:     \t1.92\t1.8835\t1.5000\t3.0000\n",
      "Error:     \t4.8559e-01\n",
      "\n",
      "Parameter     \tDefault\tOptimal\tMin\tMax\n",
      "epsilon:     \t14.855\t31.7388\t2.9710\t74.2750\n",
      "Cmu:     \t0.09\t0.1246\t0.0500\t0.1500\n",
      "C1:     \t1.44\t1.0220\t1.0000\t1.5000\n",
      "C2:     \t1.92\t2.0525\t1.5000\t3.0000\n",
      "Error:     \t9.0118e-02\n",
      "\n",
      "Parameter     \tDefault\tOptimal\tMin\tMax\n",
      "epsilon:     \t14.855\t31.7388\t2.9710\t74.2750\n",
      "Cmu:     \t0.09\t0.1246\t0.0500\t0.1500\n",
      "C1:     \t1.44\t1.0220\t1.0000\t1.5000\n",
      "C2:     \t1.92\t2.0525\t1.5000\t3.0000\n",
      "Error:     \t9.0118e-02\n",
      "\n",
      "Parameter     \tDefault\tOptimal\tMin\tMax\n",
      "epsilon:     \t14.855\t31.7388\t2.9710\t74.2750\n",
      "Cmu:     \t0.09\t0.1246\t0.0500\t0.1500\n",
      "C1:     \t1.44\t1.0220\t1.0000\t1.5000\n",
      "C2:     \t1.92\t2.0525\t1.5000\t3.0000\n",
      "Error:     \t9.0118e-02\n",
      "\n",
      "Parameter     \tDefault\tOptimal\tMin\tMax\n",
      "epsilon:     \t14.855\t33.7551\t2.9710\t74.2750\n",
      "Cmu:     \t0.09\t0.1177\t0.0500\t0.1500\n",
      "C1:     \t1.44\t1.0259\t1.0000\t1.5000\n",
      "C2:     \t1.92\t2.1208\t1.5000\t3.0000\n",
      "Error:     \t5.3769e-02\n",
      "\n",
      "Parameter     \tDefault\tOptimal\tMin\tMax\n",
      "epsilon:     \t14.855\t74.2750\t2.9710\t74.2750\n",
      "Cmu:     \t0.09\t0.1500\t0.0500\t0.1500\n",
      "C1:     \t1.44\t1.0000\t1.0000\t1.5000\n",
      "C2:     \t1.92\t1.8964\t1.5000\t3.0000\n",
      "Error:     \t1.4331e-02\n",
      "\n",
      "Parameter     \tDefault\tOptimal\tMin\tMax\n",
      "epsilon:     \t14.855\t74.2750\t2.9710\t74.2750\n",
      "Cmu:     \t0.09\t0.1500\t0.0500\t0.1500\n",
      "C1:     \t1.44\t1.0000\t1.0000\t1.5000\n",
      "C2:     \t1.92\t1.8964\t1.5000\t3.0000\n",
      "Error:     \t1.4331e-02\n",
      "\n",
      "Parameter     \tDefault\tOptimal\tMin\tMax\n",
      "epsilon:     \t14.855\t74.2750\t2.9710\t74.2750\n",
      "Cmu:     \t0.09\t0.1500\t0.0500\t0.1500\n",
      "C1:     \t1.44\t1.0000\t1.0000\t1.5000\n",
      "C2:     \t1.92\t1.8964\t1.5000\t3.0000\n",
      "Error:     \t1.4331e-02\n",
      "\n",
      "Parameter     \tDefault\tOptimal\tMin\tMax\n",
      "epsilon:     \t14.855\t74.2750\t2.9710\t74.2750\n",
      "Cmu:     \t0.09\t0.1500\t0.0500\t0.1500\n",
      "C1:     \t1.44\t1.0000\t1.0000\t1.5000\n",
      "C2:     \t1.92\t1.8964\t1.5000\t3.0000\n",
      "Error:     \t1.4331e-02\n",
      "\n",
      "Parameter     \tDefault\tOptimal\tMin\tMax\n",
      "epsilon:     \t14.855\t31.7127\t2.9710\t74.2750\n",
      "Cmu:     \t0.09\t0.1055\t0.0500\t0.1500\n",
      "C1:     \t1.44\t1.0639\t1.0000\t1.5000\n",
      "C2:     \t1.92\t2.3314\t1.5000\t3.0000\n",
      "Error:     \t5.5930e-03\n"
     ]
    }
   ],
   "source": [
    "optimizer = skopt.Optimizer(\n",
    "    dimensions=bounds,\n",
    "    random_state=1,\n",
    "    base_estimator='gp'\n",
    ")\n",
    "\n",
    "for i in range(10):\n",
    "    x = optimizer.ask(n_points = 5)\n",
    "    y = evaluate_function(x)\n",
    "\n",
    "    x = np.array(x)\n",
    "    y = np.array(y)\n",
    "    valid = np.isfinite(y) & (y < 1e20)\n",
    "    x = np.array(x)[valid,:]\n",
    "    y = np.array(y)[valid]\n",
    "    \n",
    "    optimizer.tell(x.tolist(),y.tolist())\n",
    "    min_idx = np.argmin(optimizer.yi)\n",
    "    print()\n",
    "    print('Parameter     \\tDefault\\tOptimal\\tMin\\tMax')\n",
    "    for i in range(len(param_names)):\n",
    "        print(f'{param_names[i]}:     \\t{default_values[i]}\\t{optimizer.Xi[min_idx][i]:.4f}\\t{bounds[i][0]:.4f}\\t{bounds[i][1]:.4f}')\n",
    "    print(f'Error:     \\t{np.sqrt(optimizer.yi[min_idx]):.4e}')"
   ]
  },
  {
   "cell_type": "markdown",
   "metadata": {},
   "source": [
    "### Optimization results\n",
    "After the optimization loop has completed, we see that the penalty function has reduced from 12.1977 Pa$^2$ to 31 $\\mu$Pa, close to the accuracy the convergence criterion of the solver itself. The most dramatic change is the value of $\\epsilon$ which increases to a value of 31.7 from 14.855. This is not unexpected as the scaling argument used to derive the value originally is intended to provide an order of magnitude estimate. The other parameters are well within the values reported in the values of Sherzadi et al. [2017]. "
   ]
  },
  {
   "cell_type": "code",
   "execution_count": 9,
   "metadata": {},
   "outputs": [
    {
     "name": "stdout",
     "output_type": "stream",
     "text": [
      "Parameter     \tDefault\tOptimal\tMin\tMax\n",
      "epsilon:     \t14.855\t31.7127\t2.9710\t74.2750\n",
      "Cmu:     \t0.09\t0.1055\t0.0500\t0.1500\n",
      "C1:     \t1.44\t1.0639\t1.0000\t1.5000\n",
      "C2:     \t1.92\t2.3314\t1.5000\t3.0000\n",
      "------------\n",
      "Error:     \t3.1738\t5.5930e-03\n"
     ]
    }
   ],
   "source": [
    "default_accuracy = extract_output(default_simulation)\n",
    "\n",
    "print('Parameter     \\tDefault\\tOptimal\\tMin\\tMax')\n",
    "for i in range(len(param_names)):\n",
    "    print(f'{param_names[i]}:     \\t{default_values[i]}\\t{optimizer.Xi[min_idx][i]:.4f}\\t{bounds[i][0]:.4f}\\t{bounds[i][1]:.4f}')\n",
    "print('-'*12)\n",
    "print(f'Error:     \\t{np.sqrt(default_accuracy):.4f}\\t{np.sqrt(optimizer.yi[min_idx]):.4e}')\n"
   ]
  },
  {
   "cell_type": "markdown",
   "metadata": {},
   "source": [
    "## Summary\n",
    "\n",
    "This notebook has demonstrated how SmartSim can be combined with OpenFOAM to implement a Bayesian optimization workflow that seeks to find a set of turbulence parameters that allows a RANS variant of the pitzDaily case to match that of its LES counterpart. It uses SmartSim's configuration and ensemble launching capabilities to explore multiple different sets of coefficients at every optimization iteration loop. For this case, the optimization loop executes completes within 5 minutes, requiring a total of 50 evaluation of the pitzDaily case to converge to the optimal solution. Both the OpenFOAM case and the optimizer used could be changed out to build a similar workflow, but tailored to the tools and applications of the users case."
   ]
  }
 ],
 "metadata": {
  "kernelspec": {
   "display_name": "Python 3 (ipykernel)",
   "language": "python",
   "name": "python3"
  },
  "language_info": {
   "codemirror_mode": {
    "name": "ipython",
    "version": 3
   },
   "file_extension": ".py",
   "mimetype": "text/x-python",
   "name": "python",
   "nbconvert_exporter": "python",
   "pygments_lexer": "ipython3",
   "version": "3.10.13"
  }
 },
 "nbformat": 4,
 "nbformat_minor": 4
}
